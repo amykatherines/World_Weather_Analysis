{
 "cells": [
  {
   "cell_type": "code",
   "execution_count": 49,
   "metadata": {},
   "outputs": [],
   "source": [
    "# Import the NumPy module.\n",
    "# The NumPy module has a built-in random module, \n",
    "# and supplements the built-in Python random module. \n",
    "# There is no need to import the random module if we import the NumPy module, as it's redundant.\n",
    "import numpy as np\n",
    "\n",
    "# Import the Random Module\n",
    "import random\n",
    "\n",
    "# Import timeit - To test how long a piece of code or function takes to run\n",
    "import timeit\n",
    "\n"
   ]
  },
  {
   "cell_type": "code",
   "execution_count": 50,
   "metadata": {},
   "outputs": [
    {
     "data": {
      "text/plain": [
       "84"
      ]
     },
     "execution_count": 50,
     "metadata": {},
     "output_type": "execute_result"
    }
   ],
   "source": [
    "# if you use the random module, you would call random.randit(-90,90)\n",
    "np.random.randint(-90, 90)"
   ]
  },
  {
   "cell_type": "code",
   "execution_count": 51,
   "metadata": {},
   "outputs": [
    {
     "data": {
      "text/plain": [
       "0.5272161124432567"
      ]
     },
     "execution_count": 51,
     "metadata": {},
     "output_type": "execute_result"
    }
   ],
   "source": [
    "# generate random number float between 0 and 1.0\n",
    "np.random.random()"
   ]
  },
  {
   "cell_type": "code",
   "execution_count": 52,
   "metadata": {},
   "outputs": [
    {
     "data": {
      "text/plain": [
       "68.55806719026283"
      ]
     },
     "execution_count": 52,
     "metadata": {},
     "output_type": "execute_result"
    }
   ],
   "source": [
    "# Generates a random number between -89.999999 and 89.99999\n",
    "random_number = np.random.randint(-90, 89) + np.random.random()\n",
    "random_number"
   ]
  },
  {
   "cell_type": "code",
   "execution_count": 53,
   "metadata": {},
   "outputs": [
    {
     "data": {
      "text/plain": [
       "[55.9943918897375,\n",
       " -30.13024485689035,\n",
       " 78.2406181680029,\n",
       " 48.43316894347651,\n",
       " -14.11975923122406,\n",
       " 20.70738929317818,\n",
       " 59.01501796936603,\n",
       " 12.548539006586926,\n",
       " 64.96827881592627,\n",
       " -10.211410024577058]"
      ]
     },
     "execution_count": 53,
     "metadata": {},
     "output_type": "execute_result"
    }
   ],
   "source": [
    "# generate ten random floating-point decimal latitudes between –90 and 89 into a list.\n",
    "x = 1\n",
    "latitudes = []\n",
    "while x < 11:\n",
    "    random_lat = np.random.randint(-90, 89) + np.random.random()\n",
    "    latitudes.append(random_lat)\n",
    "    x += 1\n",
    "\n",
    "latitudes"
   ]
  },
  {
   "cell_type": "code",
   "execution_count": 54,
   "metadata": {},
   "outputs": [
    {
     "data": {
      "text/plain": [
       "[-24, -30, -18, 72, -12, -12, -6, 63, -3, 48]"
      ]
     },
     "execution_count": 54,
     "metadata": {},
     "output_type": "execute_result"
    }
   ],
   "source": [
    "# randrange() function, there is an option to add a step parameter and set \n",
    "# it equal to an integer, which will generate increments of a given \n",
    "# integer value, from the lower to the upper limit.\n",
    "x = 1\n",
    "latitudes_step = []\n",
    "while x < 11:\n",
    "    random_lat = random.randrange(-90, 90, step=3)\n",
    "    latitudes_step.append(random_lat)\n",
    "    x += 1\n",
    "\n",
    "latitudes_step"
   ]
  },
  {
   "cell_type": "code",
   "execution_count": 55,
   "metadata": {},
   "outputs": [
    {
     "data": {
      "text/plain": [
       "74.89926445513413"
      ]
     },
     "execution_count": 55,
     "metadata": {},
     "output_type": "execute_result"
    }
   ],
   "source": [
    "# The uniform() function will allow us to generate a floating-point decimal number between two given numbers inside the parenthese\n",
    "np.random.uniform(-90, 90)"
   ]
  },
  {
   "cell_type": "code",
   "execution_count": 56,
   "metadata": {},
   "outputs": [
    {
     "data": {
      "text/plain": [
       "-18.635801223879326"
      ]
     },
     "execution_count": 56,
     "metadata": {},
     "output_type": "execute_result"
    }
   ],
   "source": [
    "# The uniform() function will allow us to generate a floating-point decimal number between two given numbers inside the parenthese\n",
    "np.random.uniform(-90.000, 90.000)"
   ]
  },
  {
   "cell_type": "code",
   "execution_count": 57,
   "metadata": {},
   "outputs": [
    {
     "data": {
      "text/plain": [
       "88.32252440450395"
      ]
     },
     "execution_count": 57,
     "metadata": {},
     "output_type": "execute_result"
    }
   ],
   "source": [
    "# Or another way to write this is np.random.uniform(-90.000, 90.000)\n",
    "np.random.uniform(low=-90, high=90)"
   ]
  },
  {
   "cell_type": "code",
   "execution_count": 58,
   "metadata": {},
   "outputs": [
    {
     "data": {
      "text/plain": [
       "array([ 23.35546578, -58.11917103,  16.51015271, -44.73752761,\n",
       "       -25.70945712, -34.7773214 ,  62.2422766 ,  81.19638702,\n",
       "         2.05282359,  46.93268757,  -0.93536086, -49.79676627,\n",
       "        85.95564944,  89.61231626, -68.96748557,  82.46367219,\n",
       "       -58.20025249,  76.46186162, -31.92638365,  13.43073797,\n",
       "        61.93080341,  39.36064186, -74.12979919,  34.72005438,\n",
       "        12.43205308, -75.58138112, -49.71659406,  74.42703229,\n",
       "        -5.7859213 , -34.22706005, -24.98725408, -64.98478966,\n",
       "        29.54748421, -25.65433734,  79.3662294 ,  15.89543477,\n",
       "       -45.3957943 ,   2.91027007,   5.72380197, -46.26007279,\n",
       "        13.44063105, -48.11032327, -38.15697472,  56.66013646,\n",
       "       -56.72984435,  63.6137587 ,  46.50280778, -45.25740844,\n",
       "       -57.41519466,  28.08105765])"
      ]
     },
     "execution_count": 58,
     "metadata": {},
     "output_type": "execute_result"
    }
   ],
   "source": [
    "# Or another way to write this is np.random.uniform(-90.000, 90.000)\n",
    "np.random.uniform(low=-90.000, high=90.000, size=50)"
   ]
  },
  {
   "cell_type": "code",
   "execution_count": 61,
   "metadata": {},
   "outputs": [
    {
     "name": "stdout",
     "output_type": "stream",
     "text": [
      "23.2 µs ± 1.73 µs per loop (mean ± std. dev. of 7 runs, 10000 loops each)\n"
     ]
    }
   ],
   "source": [
    "# The output is the amount of time it took to run this code, which is an average ?? µs micro-seconds\n",
    "# The amount of time it takes to run this code depends on the processing speed and the RAM of your computer.\n",
    "%timeit np.random.uniform(-90.000, 90.000, size=1500)"
   ]
  },
  {
   "cell_type": "code",
   "execution_count": 62,
   "metadata": {},
   "outputs": [
    {
     "name": "stdout",
     "output_type": "stream",
     "text": [
      "3.55 ms ± 50.7 µs per loop (mean ± std. dev. of 7 runs, 100 loops each)\n"
     ]
    }
   ],
   "source": [
    "def latitudes(size):\n",
    "    latitudes = []\n",
    "    x = 0\n",
    "    while x < (size):\n",
    "        random_lat = random.randint(-90, 90) + random.random()\n",
    "        latitudes.append(random_lat)\n",
    "        x += 1\n",
    "    return latitudes\n",
    "# Call the function with 1500.\n",
    "%timeit latitudes(1500)"
   ]
  },
  {
   "cell_type": "code",
   "execution_count": 65,
   "metadata": {},
   "outputs": [
    {
     "name": "stdout",
     "output_type": "stream",
     "text": [
      "3.51 ms ± 157 µs per loop (mean ± std. dev. of 7 runs, 100 loops each)\n"
     ]
    }
   ],
   "source": [
    "def latitudes2(size):\n",
    "    latitudes2 = []\n",
    "    for i in range(size):\n",
    "        random_lat = random.randint(-90, 90) + random.random()\n",
    "        latitudes2.append(random_lat)\n",
    "# Call the function with 1500.\n",
    "%timeit latitudes2(1500)"
   ]
  }
 ],
 "metadata": {
  "interpreter": {
   "hash": "498d62e974eb801dd54e2020d07cb72c85f2b4c358547de79bb1adcc510a2bfb"
  },
  "kernelspec": {
   "display_name": "Python 3.9.10 64-bit (windows store)",
   "language": "python",
   "name": "python3"
  },
  "language_info": {
   "codemirror_mode": {
    "name": "ipython",
    "version": 3
   },
   "file_extension": ".py",
   "mimetype": "text/x-python",
   "name": "python",
   "nbconvert_exporter": "python",
   "pygments_lexer": "ipython3",
   "version": "3.7.12"
  },
  "orig_nbformat": 4
 },
 "nbformat": 4,
 "nbformat_minor": 2
}
